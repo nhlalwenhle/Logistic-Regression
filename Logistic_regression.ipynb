{
 "cells": [
  {
   "cell_type": "markdown",
   "metadata": {},
   "source": [
    "# Logistic Regression."
   ]
  },
  {
   "cell_type": "code",
   "execution_count": null,
   "metadata": {},
   "outputs": [],
   "source": []
  },
  {
   "cell_type": "markdown",
   "metadata": {
    "slideshow": {
     "slide_type": "slide"
    }
   },
   "source": [
    "* Import packages."
   ]
  },
  {
   "cell_type": "code",
   "execution_count": 57,
   "metadata": {},
   "outputs": [],
   "source": [
    "import pandas as pd\n",
    "import numpy as np\n",
    "import seaborn as sns\n",
    "%matplotlib inline\n",
    "import matplotlib.pyplot as plt\n",
    "import warnings; warnings.simplefilter('ignore')"
   ]
  },
  {
   "cell_type": "markdown",
   "metadata": {},
   "source": [
    "Use pandas pd.read_csv method to read in WA_Fn-UseC_-Telco-Customer-Churn.csv data and call it data"
   ]
  },
  {
   "cell_type": "code",
   "execution_count": 58,
   "metadata": {},
   "outputs": [],
   "source": [
    "data = pd.read_csv('WA_Fn-UseC_-Telco-Customer-Churn.csv').dropna()"
   ]
  },
  {
   "cell_type": "markdown",
   "metadata": {},
   "source": [
    "*We use the dataframe.head() function to take a look at the first 5 rows of our data."
   ]
  },
  {
   "cell_type": "code",
   "execution_count": 59,
   "metadata": {},
   "outputs": [
    {
     "data": {
      "text/html": [
       "<div>\n",
       "<style scoped>\n",
       "    .dataframe tbody tr th:only-of-type {\n",
       "        vertical-align: middle;\n",
       "    }\n",
       "\n",
       "    .dataframe tbody tr th {\n",
       "        vertical-align: top;\n",
       "    }\n",
       "\n",
       "    .dataframe thead th {\n",
       "        text-align: right;\n",
       "    }\n",
       "</style>\n",
       "<table border=\"1\" class=\"dataframe\">\n",
       "  <thead>\n",
       "    <tr style=\"text-align: right;\">\n",
       "      <th></th>\n",
       "      <th>customerID</th>\n",
       "      <th>gender</th>\n",
       "      <th>SeniorCitizen</th>\n",
       "      <th>Partner</th>\n",
       "      <th>Dependents</th>\n",
       "      <th>tenure</th>\n",
       "      <th>PhoneService</th>\n",
       "      <th>MultipleLines</th>\n",
       "      <th>InternetService</th>\n",
       "      <th>OnlineSecurity</th>\n",
       "      <th>...</th>\n",
       "      <th>DeviceProtection</th>\n",
       "      <th>TechSupport</th>\n",
       "      <th>StreamingTV</th>\n",
       "      <th>StreamingMovies</th>\n",
       "      <th>Contract</th>\n",
       "      <th>PaperlessBilling</th>\n",
       "      <th>PaymentMethod</th>\n",
       "      <th>MonthlyCharges</th>\n",
       "      <th>TotalCharges</th>\n",
       "      <th>Churn</th>\n",
       "    </tr>\n",
       "  </thead>\n",
       "  <tbody>\n",
       "    <tr>\n",
       "      <th>0</th>\n",
       "      <td>7590-VHVEG</td>\n",
       "      <td>Female</td>\n",
       "      <td>0</td>\n",
       "      <td>Yes</td>\n",
       "      <td>No</td>\n",
       "      <td>1</td>\n",
       "      <td>No</td>\n",
       "      <td>No phone service</td>\n",
       "      <td>DSL</td>\n",
       "      <td>No</td>\n",
       "      <td>...</td>\n",
       "      <td>No</td>\n",
       "      <td>No</td>\n",
       "      <td>No</td>\n",
       "      <td>No</td>\n",
       "      <td>Month-to-month</td>\n",
       "      <td>Yes</td>\n",
       "      <td>Electronic check</td>\n",
       "      <td>29.85</td>\n",
       "      <td>29.85</td>\n",
       "      <td>No</td>\n",
       "    </tr>\n",
       "    <tr>\n",
       "      <th>1</th>\n",
       "      <td>5575-GNVDE</td>\n",
       "      <td>Male</td>\n",
       "      <td>0</td>\n",
       "      <td>No</td>\n",
       "      <td>No</td>\n",
       "      <td>34</td>\n",
       "      <td>Yes</td>\n",
       "      <td>No</td>\n",
       "      <td>DSL</td>\n",
       "      <td>Yes</td>\n",
       "      <td>...</td>\n",
       "      <td>Yes</td>\n",
       "      <td>No</td>\n",
       "      <td>No</td>\n",
       "      <td>No</td>\n",
       "      <td>One year</td>\n",
       "      <td>No</td>\n",
       "      <td>Mailed check</td>\n",
       "      <td>56.95</td>\n",
       "      <td>1889.5</td>\n",
       "      <td>No</td>\n",
       "    </tr>\n",
       "    <tr>\n",
       "      <th>2</th>\n",
       "      <td>3668-QPYBK</td>\n",
       "      <td>Male</td>\n",
       "      <td>0</td>\n",
       "      <td>No</td>\n",
       "      <td>No</td>\n",
       "      <td>2</td>\n",
       "      <td>Yes</td>\n",
       "      <td>No</td>\n",
       "      <td>DSL</td>\n",
       "      <td>Yes</td>\n",
       "      <td>...</td>\n",
       "      <td>No</td>\n",
       "      <td>No</td>\n",
       "      <td>No</td>\n",
       "      <td>No</td>\n",
       "      <td>Month-to-month</td>\n",
       "      <td>Yes</td>\n",
       "      <td>Mailed check</td>\n",
       "      <td>53.85</td>\n",
       "      <td>108.15</td>\n",
       "      <td>Yes</td>\n",
       "    </tr>\n",
       "    <tr>\n",
       "      <th>3</th>\n",
       "      <td>7795-CFOCW</td>\n",
       "      <td>Male</td>\n",
       "      <td>0</td>\n",
       "      <td>No</td>\n",
       "      <td>No</td>\n",
       "      <td>45</td>\n",
       "      <td>No</td>\n",
       "      <td>No phone service</td>\n",
       "      <td>DSL</td>\n",
       "      <td>Yes</td>\n",
       "      <td>...</td>\n",
       "      <td>Yes</td>\n",
       "      <td>Yes</td>\n",
       "      <td>No</td>\n",
       "      <td>No</td>\n",
       "      <td>One year</td>\n",
       "      <td>No</td>\n",
       "      <td>Bank transfer (automatic)</td>\n",
       "      <td>42.30</td>\n",
       "      <td>1840.75</td>\n",
       "      <td>No</td>\n",
       "    </tr>\n",
       "    <tr>\n",
       "      <th>4</th>\n",
       "      <td>9237-HQITU</td>\n",
       "      <td>Female</td>\n",
       "      <td>0</td>\n",
       "      <td>No</td>\n",
       "      <td>No</td>\n",
       "      <td>2</td>\n",
       "      <td>Yes</td>\n",
       "      <td>No</td>\n",
       "      <td>Fiber optic</td>\n",
       "      <td>No</td>\n",
       "      <td>...</td>\n",
       "      <td>No</td>\n",
       "      <td>No</td>\n",
       "      <td>No</td>\n",
       "      <td>No</td>\n",
       "      <td>Month-to-month</td>\n",
       "      <td>Yes</td>\n",
       "      <td>Electronic check</td>\n",
       "      <td>70.70</td>\n",
       "      <td>151.65</td>\n",
       "      <td>Yes</td>\n",
       "    </tr>\n",
       "  </tbody>\n",
       "</table>\n",
       "<p>5 rows × 21 columns</p>\n",
       "</div>"
      ],
      "text/plain": [
       "   customerID  gender  SeniorCitizen Partner Dependents  tenure PhoneService  \\\n",
       "0  7590-VHVEG  Female              0     Yes         No       1           No   \n",
       "1  5575-GNVDE    Male              0      No         No      34          Yes   \n",
       "2  3668-QPYBK    Male              0      No         No       2          Yes   \n",
       "3  7795-CFOCW    Male              0      No         No      45           No   \n",
       "4  9237-HQITU  Female              0      No         No       2          Yes   \n",
       "\n",
       "      MultipleLines InternetService OnlineSecurity  ...  DeviceProtection  \\\n",
       "0  No phone service             DSL             No  ...                No   \n",
       "1                No             DSL            Yes  ...               Yes   \n",
       "2                No             DSL            Yes  ...                No   \n",
       "3  No phone service             DSL            Yes  ...               Yes   \n",
       "4                No     Fiber optic             No  ...                No   \n",
       "\n",
       "  TechSupport StreamingTV StreamingMovies        Contract PaperlessBilling  \\\n",
       "0          No          No              No  Month-to-month              Yes   \n",
       "1          No          No              No        One year               No   \n",
       "2          No          No              No  Month-to-month              Yes   \n",
       "3         Yes          No              No        One year               No   \n",
       "4          No          No              No  Month-to-month              Yes   \n",
       "\n",
       "               PaymentMethod MonthlyCharges  TotalCharges Churn  \n",
       "0           Electronic check          29.85         29.85    No  \n",
       "1               Mailed check          56.95        1889.5    No  \n",
       "2               Mailed check          53.85        108.15   Yes  \n",
       "3  Bank transfer (automatic)          42.30       1840.75    No  \n",
       "4           Electronic check          70.70        151.65   Yes  \n",
       "\n",
       "[5 rows x 21 columns]"
      ]
     },
     "execution_count": 59,
     "metadata": {},
     "output_type": "execute_result"
    }
   ],
   "source": [
    "data.head()"
   ]
  },
  {
   "cell_type": "markdown",
   "metadata": {},
   "source": [
    "* Use the df.describe(), df.info() and df.isnull().sum() functions to further assess our data."
   ]
  },
  {
   "cell_type": "code",
   "execution_count": 60,
   "metadata": {},
   "outputs": [
    {
     "data": {
      "text/html": [
       "<div>\n",
       "<style scoped>\n",
       "    .dataframe tbody tr th:only-of-type {\n",
       "        vertical-align: middle;\n",
       "    }\n",
       "\n",
       "    .dataframe tbody tr th {\n",
       "        vertical-align: top;\n",
       "    }\n",
       "\n",
       "    .dataframe thead th {\n",
       "        text-align: right;\n",
       "    }\n",
       "</style>\n",
       "<table border=\"1\" class=\"dataframe\">\n",
       "  <thead>\n",
       "    <tr style=\"text-align: right;\">\n",
       "      <th></th>\n",
       "      <th>SeniorCitizen</th>\n",
       "      <th>tenure</th>\n",
       "      <th>MonthlyCharges</th>\n",
       "    </tr>\n",
       "  </thead>\n",
       "  <tbody>\n",
       "    <tr>\n",
       "      <th>count</th>\n",
       "      <td>7043.000000</td>\n",
       "      <td>7043.000000</td>\n",
       "      <td>7043.000000</td>\n",
       "    </tr>\n",
       "    <tr>\n",
       "      <th>mean</th>\n",
       "      <td>0.162147</td>\n",
       "      <td>32.371149</td>\n",
       "      <td>64.761692</td>\n",
       "    </tr>\n",
       "    <tr>\n",
       "      <th>std</th>\n",
       "      <td>0.368612</td>\n",
       "      <td>24.559481</td>\n",
       "      <td>30.090047</td>\n",
       "    </tr>\n",
       "    <tr>\n",
       "      <th>min</th>\n",
       "      <td>0.000000</td>\n",
       "      <td>0.000000</td>\n",
       "      <td>18.250000</td>\n",
       "    </tr>\n",
       "    <tr>\n",
       "      <th>25%</th>\n",
       "      <td>0.000000</td>\n",
       "      <td>9.000000</td>\n",
       "      <td>35.500000</td>\n",
       "    </tr>\n",
       "    <tr>\n",
       "      <th>50%</th>\n",
       "      <td>0.000000</td>\n",
       "      <td>29.000000</td>\n",
       "      <td>70.350000</td>\n",
       "    </tr>\n",
       "    <tr>\n",
       "      <th>75%</th>\n",
       "      <td>0.000000</td>\n",
       "      <td>55.000000</td>\n",
       "      <td>89.850000</td>\n",
       "    </tr>\n",
       "    <tr>\n",
       "      <th>max</th>\n",
       "      <td>1.000000</td>\n",
       "      <td>72.000000</td>\n",
       "      <td>118.750000</td>\n",
       "    </tr>\n",
       "  </tbody>\n",
       "</table>\n",
       "</div>"
      ],
      "text/plain": [
       "       SeniorCitizen       tenure  MonthlyCharges\n",
       "count    7043.000000  7043.000000     7043.000000\n",
       "mean        0.162147    32.371149       64.761692\n",
       "std         0.368612    24.559481       30.090047\n",
       "min         0.000000     0.000000       18.250000\n",
       "25%         0.000000     9.000000       35.500000\n",
       "50%         0.000000    29.000000       70.350000\n",
       "75%         0.000000    55.000000       89.850000\n",
       "max         1.000000    72.000000      118.750000"
      ]
     },
     "execution_count": 60,
     "metadata": {},
     "output_type": "execute_result"
    }
   ],
   "source": [
    "data.describe()"
   ]
  },
  {
   "cell_type": "code",
   "execution_count": 61,
   "metadata": {},
   "outputs": [
    {
     "name": "stdout",
     "output_type": "stream",
     "text": [
      "<class 'pandas.core.frame.DataFrame'>\n",
      "Int64Index: 7043 entries, 0 to 7042\n",
      "Data columns (total 21 columns):\n",
      "customerID          7043 non-null object\n",
      "gender              7043 non-null object\n",
      "SeniorCitizen       7043 non-null int64\n",
      "Partner             7043 non-null object\n",
      "Dependents          7043 non-null object\n",
      "tenure              7043 non-null int64\n",
      "PhoneService        7043 non-null object\n",
      "MultipleLines       7043 non-null object\n",
      "InternetService     7043 non-null object\n",
      "OnlineSecurity      7043 non-null object\n",
      "OnlineBackup        7043 non-null object\n",
      "DeviceProtection    7043 non-null object\n",
      "TechSupport         7043 non-null object\n",
      "StreamingTV         7043 non-null object\n",
      "StreamingMovies     7043 non-null object\n",
      "Contract            7043 non-null object\n",
      "PaperlessBilling    7043 non-null object\n",
      "PaymentMethod       7043 non-null object\n",
      "MonthlyCharges      7043 non-null float64\n",
      "TotalCharges        7043 non-null object\n",
      "Churn               7043 non-null object\n",
      "dtypes: float64(1), int64(2), object(18)\n",
      "memory usage: 1.2+ MB\n"
     ]
    }
   ],
   "source": [
    "data.info()"
   ]
  },
  {
   "cell_type": "markdown",
   "metadata": {},
   "source": [
    "* Use the df.isnull().sum() function to get the number of null values in each of the columns should any exist"
   ]
  },
  {
   "cell_type": "code",
   "execution_count": 62,
   "metadata": {},
   "outputs": [
    {
     "data": {
      "text/plain": [
       "customerID          0\n",
       "gender              0\n",
       "SeniorCitizen       0\n",
       "Partner             0\n",
       "Dependents          0\n",
       "tenure              0\n",
       "PhoneService        0\n",
       "MultipleLines       0\n",
       "InternetService     0\n",
       "OnlineSecurity      0\n",
       "OnlineBackup        0\n",
       "DeviceProtection    0\n",
       "TechSupport         0\n",
       "StreamingTV         0\n",
       "StreamingMovies     0\n",
       "Contract            0\n",
       "PaperlessBilling    0\n",
       "PaymentMethod       0\n",
       "MonthlyCharges      0\n",
       "TotalCharges        0\n",
       "Churn               0\n",
       "dtype: int64"
      ]
     },
     "execution_count": 62,
     "metadata": {},
     "output_type": "execute_result"
    }
   ],
   "source": [
    "data.isnull().sum()"
   ]
  },
  {
   "cell_type": "markdown",
   "metadata": {},
   "source": [
    "* Drop customerID and Totalcharges columns."
   ]
  },
  {
   "cell_type": "code",
   "execution_count": 63,
   "metadata": {},
   "outputs": [],
   "source": [
    "data1 = data.drop(['customerID'], axis=1)"
   ]
  },
  {
   "cell_type": "code",
   "execution_count": 64,
   "metadata": {},
   "outputs": [],
   "source": [
    "data2 = data1.drop(['TotalCharges'], axis=1)"
   ]
  },
  {
   "cell_type": "markdown",
   "metadata": {},
   "source": [
    "From the df.head() function that we used earlier, we were able to determine that the dataframe contains a mixture of categorical and numercal data. This means that we have to change this so we can plot it. Below we use the df.column.replace() function to change the categorical data to numeric."
   ]
  },
  {
   "cell_type": "code",
   "execution_count": 65,
   "metadata": {},
   "outputs": [],
   "source": [
    "# Use df.replace()function on the column to change the variable to an interger.\n",
    "data2['Partner'].replace(['Yes','No'], [1,0],inplace=True)"
   ]
  },
  {
   "cell_type": "code",
   "execution_count": 66,
   "metadata": {},
   "outputs": [],
   "source": [
    "# Use df.replace()function on the  column to change the variable to an interger.\n",
    "data2['gender'].replace(['Male','Female'], [0,1],inplace=True)"
   ]
  },
  {
   "cell_type": "code",
   "execution_count": 67,
   "metadata": {},
   "outputs": [],
   "source": [
    "# Use df.replace()function on the  column to change the variable to an interger.\n",
    "data2['InternetService'].replace(['No','DSL','Fiber optic'], [0,1,2],inplace=True)"
   ]
  },
  {
   "cell_type": "code",
   "execution_count": 68,
   "metadata": {},
   "outputs": [],
   "source": [
    "# Use df.replace()function on the column to change the variable to an interger.\n",
    "data2['Churn'].replace(['Yes','No'],[1,0],inplace=True)"
   ]
  },
  {
   "cell_type": "code",
   "execution_count": 69,
   "metadata": {},
   "outputs": [],
   "source": [
    "# Use df.replace()function on the column to change the variable to an interger.\n",
    "data2['PhoneService'].replace(['Yes','No'], [1,0],inplace=True)"
   ]
  },
  {
   "cell_type": "code",
   "execution_count": 70,
   "metadata": {},
   "outputs": [],
   "source": [
    "# Use df.replace()function on the to change the variable to an interger.\n",
    "data2['Dependents'].replace(['Yes','No'], [1,0],inplace=True)"
   ]
  },
  {
   "cell_type": "code",
   "execution_count": 71,
   "metadata": {},
   "outputs": [],
   "source": [
    "# Use df.replace()function on the column to change the variable to an interger.\n",
    "data2['DeviceProtection'].replace(['No','Yes','No internet service'], [0,1,0],inplace=True)"
   ]
  },
  {
   "cell_type": "code",
   "execution_count": 72,
   "metadata": {},
   "outputs": [],
   "source": [
    "# Use df.replace()function on the column to change the variable to an interger.\n",
    "data2['MultipleLines'].replace(['No phone service','No', 'Yes'], [0,0,1],inplace=True)"
   ]
  },
  {
   "cell_type": "code",
   "execution_count": 73,
   "metadata": {},
   "outputs": [],
   "source": [
    "# Use df.replace()function on the column to change the variable to an interger.\n",
    "data2['Contract'].replace(['Month-to-month', 'One year', 'Two year'], [0,1,2],inplace=True)"
   ]
  },
  {
   "cell_type": "code",
   "execution_count": 74,
   "metadata": {},
   "outputs": [],
   "source": [
    "# Use df.replace()function on the column to change the variable to an interger.\n",
    "data2['StreamingTV'].replace(['No','Yes','No internet service'], [0,1,0],inplace=True)"
   ]
  },
  {
   "cell_type": "code",
   "execution_count": 75,
   "metadata": {},
   "outputs": [],
   "source": [
    "# Use df.replace()function on the column to change the variable to an interger.\n",
    "data2['TechSupport'].replace(['No','Yes','No internet service'], [0,1,0],inplace=True)"
   ]
  },
  {
   "cell_type": "code",
   "execution_count": 76,
   "metadata": {},
   "outputs": [],
   "source": [
    "# Use df.replace()function on the column to change the variable to an interger.\n",
    "data2['OnlineBackup'].replace(['No','Yes','No internet service'], [0,1,0],inplace=True)"
   ]
  },
  {
   "cell_type": "code",
   "execution_count": 77,
   "metadata": {},
   "outputs": [],
   "source": [
    "# Use df.replace()function on the column to change the variable to an interger.\n",
    "data2['OnlineSecurity'].replace(['No','Yes','No internet service'], [0,1,0],inplace=True)"
   ]
  },
  {
   "cell_type": "code",
   "execution_count": 78,
   "metadata": {},
   "outputs": [],
   "source": [
    "# Use df.replace()function on the column to change the variable to an interger.\n",
    "data2['StreamingMovies'].replace(['No','Yes','No internet service'], [0,1,0],inplace=True)"
   ]
  },
  {
   "cell_type": "code",
   "execution_count": 79,
   "metadata": {},
   "outputs": [],
   "source": [
    "# Use df.replace()function on the column to change the variable to an interger.\n",
    "data2['PaperlessBilling'].replace(['Yes','No'], [1,0],inplace=True)"
   ]
  },
  {
   "cell_type": "code",
   "execution_count": 80,
   "metadata": {},
   "outputs": [],
   "source": [
    "# Use df.replace()function on the column to change the variable to an interger.\n",
    "data2['PaymentMethod'].replace(['Electronic check', 'Mailed check', 'Bank transfer (automatic)','Credit card (automatic)'], [0,1,2,3],inplace=True)"
   ]
  },
  {
   "cell_type": "code",
   "execution_count": 81,
   "metadata": {},
   "outputs": [
    {
     "data": {
      "text/html": [
       "<div>\n",
       "<style scoped>\n",
       "    .dataframe tbody tr th:only-of-type {\n",
       "        vertical-align: middle;\n",
       "    }\n",
       "\n",
       "    .dataframe tbody tr th {\n",
       "        vertical-align: top;\n",
       "    }\n",
       "\n",
       "    .dataframe thead th {\n",
       "        text-align: right;\n",
       "    }\n",
       "</style>\n",
       "<table border=\"1\" class=\"dataframe\">\n",
       "  <thead>\n",
       "    <tr style=\"text-align: right;\">\n",
       "      <th></th>\n",
       "      <th>gender</th>\n",
       "      <th>SeniorCitizen</th>\n",
       "      <th>Partner</th>\n",
       "      <th>Dependents</th>\n",
       "      <th>tenure</th>\n",
       "      <th>PhoneService</th>\n",
       "      <th>MultipleLines</th>\n",
       "      <th>InternetService</th>\n",
       "      <th>OnlineSecurity</th>\n",
       "      <th>OnlineBackup</th>\n",
       "      <th>DeviceProtection</th>\n",
       "      <th>TechSupport</th>\n",
       "      <th>StreamingTV</th>\n",
       "      <th>StreamingMovies</th>\n",
       "      <th>Contract</th>\n",
       "      <th>PaperlessBilling</th>\n",
       "      <th>PaymentMethod</th>\n",
       "      <th>MonthlyCharges</th>\n",
       "      <th>Churn</th>\n",
       "    </tr>\n",
       "  </thead>\n",
       "  <tbody>\n",
       "    <tr>\n",
       "      <th>0</th>\n",
       "      <td>1</td>\n",
       "      <td>0</td>\n",
       "      <td>1</td>\n",
       "      <td>0</td>\n",
       "      <td>1</td>\n",
       "      <td>0</td>\n",
       "      <td>0</td>\n",
       "      <td>1</td>\n",
       "      <td>0</td>\n",
       "      <td>1</td>\n",
       "      <td>0</td>\n",
       "      <td>0</td>\n",
       "      <td>0</td>\n",
       "      <td>0</td>\n",
       "      <td>0</td>\n",
       "      <td>1</td>\n",
       "      <td>0</td>\n",
       "      <td>29.85</td>\n",
       "      <td>0</td>\n",
       "    </tr>\n",
       "    <tr>\n",
       "      <th>1</th>\n",
       "      <td>0</td>\n",
       "      <td>0</td>\n",
       "      <td>0</td>\n",
       "      <td>0</td>\n",
       "      <td>34</td>\n",
       "      <td>1</td>\n",
       "      <td>0</td>\n",
       "      <td>1</td>\n",
       "      <td>1</td>\n",
       "      <td>0</td>\n",
       "      <td>1</td>\n",
       "      <td>0</td>\n",
       "      <td>0</td>\n",
       "      <td>0</td>\n",
       "      <td>1</td>\n",
       "      <td>0</td>\n",
       "      <td>1</td>\n",
       "      <td>56.95</td>\n",
       "      <td>0</td>\n",
       "    </tr>\n",
       "    <tr>\n",
       "      <th>2</th>\n",
       "      <td>0</td>\n",
       "      <td>0</td>\n",
       "      <td>0</td>\n",
       "      <td>0</td>\n",
       "      <td>2</td>\n",
       "      <td>1</td>\n",
       "      <td>0</td>\n",
       "      <td>1</td>\n",
       "      <td>1</td>\n",
       "      <td>1</td>\n",
       "      <td>0</td>\n",
       "      <td>0</td>\n",
       "      <td>0</td>\n",
       "      <td>0</td>\n",
       "      <td>0</td>\n",
       "      <td>1</td>\n",
       "      <td>1</td>\n",
       "      <td>53.85</td>\n",
       "      <td>1</td>\n",
       "    </tr>\n",
       "    <tr>\n",
       "      <th>3</th>\n",
       "      <td>0</td>\n",
       "      <td>0</td>\n",
       "      <td>0</td>\n",
       "      <td>0</td>\n",
       "      <td>45</td>\n",
       "      <td>0</td>\n",
       "      <td>0</td>\n",
       "      <td>1</td>\n",
       "      <td>1</td>\n",
       "      <td>0</td>\n",
       "      <td>1</td>\n",
       "      <td>1</td>\n",
       "      <td>0</td>\n",
       "      <td>0</td>\n",
       "      <td>1</td>\n",
       "      <td>0</td>\n",
       "      <td>2</td>\n",
       "      <td>42.30</td>\n",
       "      <td>0</td>\n",
       "    </tr>\n",
       "    <tr>\n",
       "      <th>4</th>\n",
       "      <td>1</td>\n",
       "      <td>0</td>\n",
       "      <td>0</td>\n",
       "      <td>0</td>\n",
       "      <td>2</td>\n",
       "      <td>1</td>\n",
       "      <td>0</td>\n",
       "      <td>2</td>\n",
       "      <td>0</td>\n",
       "      <td>0</td>\n",
       "      <td>0</td>\n",
       "      <td>0</td>\n",
       "      <td>0</td>\n",
       "      <td>0</td>\n",
       "      <td>0</td>\n",
       "      <td>1</td>\n",
       "      <td>0</td>\n",
       "      <td>70.70</td>\n",
       "      <td>1</td>\n",
       "    </tr>\n",
       "  </tbody>\n",
       "</table>\n",
       "</div>"
      ],
      "text/plain": [
       "   gender  SeniorCitizen  Partner  Dependents  tenure  PhoneService  \\\n",
       "0       1              0        1           0       1             0   \n",
       "1       0              0        0           0      34             1   \n",
       "2       0              0        0           0       2             1   \n",
       "3       0              0        0           0      45             0   \n",
       "4       1              0        0           0       2             1   \n",
       "\n",
       "   MultipleLines  InternetService  OnlineSecurity  OnlineBackup  \\\n",
       "0              0                1               0             1   \n",
       "1              0                1               1             0   \n",
       "2              0                1               1             1   \n",
       "3              0                1               1             0   \n",
       "4              0                2               0             0   \n",
       "\n",
       "   DeviceProtection  TechSupport  StreamingTV  StreamingMovies  Contract  \\\n",
       "0                 0            0            0                0         0   \n",
       "1                 1            0            0                0         1   \n",
       "2                 0            0            0                0         0   \n",
       "3                 1            1            0                0         1   \n",
       "4                 0            0            0                0         0   \n",
       "\n",
       "   PaperlessBilling  PaymentMethod  MonthlyCharges  Churn  \n",
       "0                 1              0           29.85      0  \n",
       "1                 0              1           56.95      0  \n",
       "2                 1              1           53.85      1  \n",
       "3                 0              2           42.30      0  \n",
       "4                 1              0           70.70      1  "
      ]
     },
     "execution_count": 81,
     "metadata": {},
     "output_type": "execute_result"
    }
   ],
   "source": [
    "data2.head()"
   ]
  },
  {
   "cell_type": "markdown",
   "metadata": {},
   "source": [
    "### Split your data into train and test sets. "
   ]
  },
  {
   "cell_type": "code",
   "execution_count": 82,
   "metadata": {},
   "outputs": [],
   "source": [
    "from sklearn.model_selection import train_test_split # Import train_test_split function\n",
    "from functools import reduce\n",
    "from sklearn.model_selection import train_test_split\n"
   ]
  },
  {
   "cell_type": "markdown",
   "metadata": {},
   "source": [
    "* Define X and y variables."
   ]
  },
  {
   "cell_type": "code",
   "execution_count": 83,
   "metadata": {},
   "outputs": [],
   "source": [
    "y = data2['Churn']\n",
    "X = data2.drop(['Churn'], axis=1)"
   ]
  },
  {
   "cell_type": "markdown",
   "metadata": {},
   "source": [
    "* create training and testing variables with 70% training and 30% test split."
   ]
  },
  {
   "cell_type": "code",
   "execution_count": 84,
   "metadata": {},
   "outputs": [
    {
     "name": "stdout",
     "output_type": "stream",
     "text": [
      "(4930, 18) (4930,)\n",
      "(2113, 18) (2113,)\n"
     ]
    }
   ],
   "source": [
    "X_train, X_test, y_train, y_test = train_test_split(X, y, test_size=0.3, random_state=7) \n",
    "print (X_train.shape, y_train.shape)\n",
    "print (X_test.shape, y_test.shape)"
   ]
  },
  {
   "cell_type": "markdown",
   "metadata": {},
   "source": [
    "### Get basic descriptive statistics for the training data. "
   ]
  },
  {
   "cell_type": "code",
   "execution_count": 85,
   "metadata": {},
   "outputs": [
    {
     "data": {
      "text/plain": [
       "count    4930.000000\n",
       "mean        0.259838\n",
       "std         0.438590\n",
       "min         0.000000\n",
       "25%         0.000000\n",
       "50%         0.000000\n",
       "75%         1.000000\n",
       "max         1.000000\n",
       "Name: Churn, dtype: float64"
      ]
     },
     "execution_count": 85,
     "metadata": {},
     "output_type": "execute_result"
    }
   ],
   "source": [
    "y_train.describe()"
   ]
  },
  {
   "cell_type": "code",
   "execution_count": 86,
   "metadata": {},
   "outputs": [
    {
     "data": {
      "text/html": [
       "<div>\n",
       "<style scoped>\n",
       "    .dataframe tbody tr th:only-of-type {\n",
       "        vertical-align: middle;\n",
       "    }\n",
       "\n",
       "    .dataframe tbody tr th {\n",
       "        vertical-align: top;\n",
       "    }\n",
       "\n",
       "    .dataframe thead th {\n",
       "        text-align: right;\n",
       "    }\n",
       "</style>\n",
       "<table border=\"1\" class=\"dataframe\">\n",
       "  <thead>\n",
       "    <tr style=\"text-align: right;\">\n",
       "      <th></th>\n",
       "      <th>gender</th>\n",
       "      <th>SeniorCitizen</th>\n",
       "      <th>Partner</th>\n",
       "      <th>Dependents</th>\n",
       "      <th>tenure</th>\n",
       "      <th>PhoneService</th>\n",
       "      <th>MultipleLines</th>\n",
       "      <th>InternetService</th>\n",
       "      <th>OnlineSecurity</th>\n",
       "      <th>OnlineBackup</th>\n",
       "      <th>DeviceProtection</th>\n",
       "      <th>TechSupport</th>\n",
       "      <th>StreamingTV</th>\n",
       "      <th>StreamingMovies</th>\n",
       "      <th>Contract</th>\n",
       "      <th>PaperlessBilling</th>\n",
       "      <th>PaymentMethod</th>\n",
       "      <th>MonthlyCharges</th>\n",
       "    </tr>\n",
       "  </thead>\n",
       "  <tbody>\n",
       "    <tr>\n",
       "      <th>count</th>\n",
       "      <td>4930.000000</td>\n",
       "      <td>4930.000000</td>\n",
       "      <td>4930.000000</td>\n",
       "      <td>4930.000000</td>\n",
       "      <td>4930.000000</td>\n",
       "      <td>4930.000000</td>\n",
       "      <td>4930.000000</td>\n",
       "      <td>4930.000000</td>\n",
       "      <td>4930.000000</td>\n",
       "      <td>4930.000000</td>\n",
       "      <td>4930.000000</td>\n",
       "      <td>4930.000000</td>\n",
       "      <td>4930.000000</td>\n",
       "      <td>4930.000000</td>\n",
       "      <td>4930.000000</td>\n",
       "      <td>4930.000000</td>\n",
       "      <td>4930.000000</td>\n",
       "      <td>4930.000000</td>\n",
       "    </tr>\n",
       "    <tr>\n",
       "      <th>mean</th>\n",
       "      <td>0.496349</td>\n",
       "      <td>0.162475</td>\n",
       "      <td>0.483570</td>\n",
       "      <td>0.300000</td>\n",
       "      <td>32.375862</td>\n",
       "      <td>0.903448</td>\n",
       "      <td>0.419067</td>\n",
       "      <td>1.220487</td>\n",
       "      <td>0.287424</td>\n",
       "      <td>0.345030</td>\n",
       "      <td>0.343002</td>\n",
       "      <td>0.294320</td>\n",
       "      <td>0.385801</td>\n",
       "      <td>0.391075</td>\n",
       "      <td>0.689452</td>\n",
       "      <td>0.590061</td>\n",
       "      <td>1.319878</td>\n",
       "      <td>64.772809</td>\n",
       "    </tr>\n",
       "    <tr>\n",
       "      <th>std</th>\n",
       "      <td>0.500037</td>\n",
       "      <td>0.368923</td>\n",
       "      <td>0.499781</td>\n",
       "      <td>0.458304</td>\n",
       "      <td>24.524955</td>\n",
       "      <td>0.295376</td>\n",
       "      <td>0.493456</td>\n",
       "      <td>0.778246</td>\n",
       "      <td>0.452607</td>\n",
       "      <td>0.475426</td>\n",
       "      <td>0.474760</td>\n",
       "      <td>0.455783</td>\n",
       "      <td>0.486833</td>\n",
       "      <td>0.488041</td>\n",
       "      <td>0.832680</td>\n",
       "      <td>0.491872</td>\n",
       "      <td>1.149466</td>\n",
       "      <td>30.006722</td>\n",
       "    </tr>\n",
       "    <tr>\n",
       "      <th>min</th>\n",
       "      <td>0.000000</td>\n",
       "      <td>0.000000</td>\n",
       "      <td>0.000000</td>\n",
       "      <td>0.000000</td>\n",
       "      <td>0.000000</td>\n",
       "      <td>0.000000</td>\n",
       "      <td>0.000000</td>\n",
       "      <td>0.000000</td>\n",
       "      <td>0.000000</td>\n",
       "      <td>0.000000</td>\n",
       "      <td>0.000000</td>\n",
       "      <td>0.000000</td>\n",
       "      <td>0.000000</td>\n",
       "      <td>0.000000</td>\n",
       "      <td>0.000000</td>\n",
       "      <td>0.000000</td>\n",
       "      <td>0.000000</td>\n",
       "      <td>18.250000</td>\n",
       "    </tr>\n",
       "    <tr>\n",
       "      <th>25%</th>\n",
       "      <td>0.000000</td>\n",
       "      <td>0.000000</td>\n",
       "      <td>0.000000</td>\n",
       "      <td>0.000000</td>\n",
       "      <td>9.000000</td>\n",
       "      <td>1.000000</td>\n",
       "      <td>0.000000</td>\n",
       "      <td>1.000000</td>\n",
       "      <td>0.000000</td>\n",
       "      <td>0.000000</td>\n",
       "      <td>0.000000</td>\n",
       "      <td>0.000000</td>\n",
       "      <td>0.000000</td>\n",
       "      <td>0.000000</td>\n",
       "      <td>0.000000</td>\n",
       "      <td>0.000000</td>\n",
       "      <td>0.000000</td>\n",
       "      <td>35.650000</td>\n",
       "    </tr>\n",
       "    <tr>\n",
       "      <th>50%</th>\n",
       "      <td>0.000000</td>\n",
       "      <td>0.000000</td>\n",
       "      <td>0.000000</td>\n",
       "      <td>0.000000</td>\n",
       "      <td>29.000000</td>\n",
       "      <td>1.000000</td>\n",
       "      <td>0.000000</td>\n",
       "      <td>1.000000</td>\n",
       "      <td>0.000000</td>\n",
       "      <td>0.000000</td>\n",
       "      <td>0.000000</td>\n",
       "      <td>0.000000</td>\n",
       "      <td>0.000000</td>\n",
       "      <td>0.000000</td>\n",
       "      <td>0.000000</td>\n",
       "      <td>1.000000</td>\n",
       "      <td>1.000000</td>\n",
       "      <td>70.400000</td>\n",
       "    </tr>\n",
       "    <tr>\n",
       "      <th>75%</th>\n",
       "      <td>1.000000</td>\n",
       "      <td>0.000000</td>\n",
       "      <td>1.000000</td>\n",
       "      <td>1.000000</td>\n",
       "      <td>55.000000</td>\n",
       "      <td>1.000000</td>\n",
       "      <td>1.000000</td>\n",
       "      <td>2.000000</td>\n",
       "      <td>1.000000</td>\n",
       "      <td>1.000000</td>\n",
       "      <td>1.000000</td>\n",
       "      <td>1.000000</td>\n",
       "      <td>1.000000</td>\n",
       "      <td>1.000000</td>\n",
       "      <td>1.000000</td>\n",
       "      <td>1.000000</td>\n",
       "      <td>2.000000</td>\n",
       "      <td>89.787500</td>\n",
       "    </tr>\n",
       "    <tr>\n",
       "      <th>max</th>\n",
       "      <td>1.000000</td>\n",
       "      <td>1.000000</td>\n",
       "      <td>1.000000</td>\n",
       "      <td>1.000000</td>\n",
       "      <td>72.000000</td>\n",
       "      <td>1.000000</td>\n",
       "      <td>1.000000</td>\n",
       "      <td>2.000000</td>\n",
       "      <td>1.000000</td>\n",
       "      <td>1.000000</td>\n",
       "      <td>1.000000</td>\n",
       "      <td>1.000000</td>\n",
       "      <td>1.000000</td>\n",
       "      <td>1.000000</td>\n",
       "      <td>2.000000</td>\n",
       "      <td>1.000000</td>\n",
       "      <td>3.000000</td>\n",
       "      <td>118.650000</td>\n",
       "    </tr>\n",
       "  </tbody>\n",
       "</table>\n",
       "</div>"
      ],
      "text/plain": [
       "            gender  SeniorCitizen      Partner   Dependents       tenure  \\\n",
       "count  4930.000000    4930.000000  4930.000000  4930.000000  4930.000000   \n",
       "mean      0.496349       0.162475     0.483570     0.300000    32.375862   \n",
       "std       0.500037       0.368923     0.499781     0.458304    24.524955   \n",
       "min       0.000000       0.000000     0.000000     0.000000     0.000000   \n",
       "25%       0.000000       0.000000     0.000000     0.000000     9.000000   \n",
       "50%       0.000000       0.000000     0.000000     0.000000    29.000000   \n",
       "75%       1.000000       0.000000     1.000000     1.000000    55.000000   \n",
       "max       1.000000       1.000000     1.000000     1.000000    72.000000   \n",
       "\n",
       "       PhoneService  MultipleLines  InternetService  OnlineSecurity  \\\n",
       "count   4930.000000    4930.000000      4930.000000     4930.000000   \n",
       "mean       0.903448       0.419067         1.220487        0.287424   \n",
       "std        0.295376       0.493456         0.778246        0.452607   \n",
       "min        0.000000       0.000000         0.000000        0.000000   \n",
       "25%        1.000000       0.000000         1.000000        0.000000   \n",
       "50%        1.000000       0.000000         1.000000        0.000000   \n",
       "75%        1.000000       1.000000         2.000000        1.000000   \n",
       "max        1.000000       1.000000         2.000000        1.000000   \n",
       "\n",
       "       OnlineBackup  DeviceProtection  TechSupport  StreamingTV  \\\n",
       "count   4930.000000       4930.000000  4930.000000  4930.000000   \n",
       "mean       0.345030          0.343002     0.294320     0.385801   \n",
       "std        0.475426          0.474760     0.455783     0.486833   \n",
       "min        0.000000          0.000000     0.000000     0.000000   \n",
       "25%        0.000000          0.000000     0.000000     0.000000   \n",
       "50%        0.000000          0.000000     0.000000     0.000000   \n",
       "75%        1.000000          1.000000     1.000000     1.000000   \n",
       "max        1.000000          1.000000     1.000000     1.000000   \n",
       "\n",
       "       StreamingMovies     Contract  PaperlessBilling  PaymentMethod  \\\n",
       "count      4930.000000  4930.000000       4930.000000    4930.000000   \n",
       "mean          0.391075     0.689452          0.590061       1.319878   \n",
       "std           0.488041     0.832680          0.491872       1.149466   \n",
       "min           0.000000     0.000000          0.000000       0.000000   \n",
       "25%           0.000000     0.000000          0.000000       0.000000   \n",
       "50%           0.000000     0.000000          1.000000       1.000000   \n",
       "75%           1.000000     1.000000          1.000000       2.000000   \n",
       "max           1.000000     2.000000          1.000000       3.000000   \n",
       "\n",
       "       MonthlyCharges  \n",
       "count     4930.000000  \n",
       "mean        64.772809  \n",
       "std         30.006722  \n",
       "min         18.250000  \n",
       "25%         35.650000  \n",
       "50%         70.400000  \n",
       "75%         89.787500  \n",
       "max        118.650000  "
      ]
     },
     "execution_count": 86,
     "metadata": {},
     "output_type": "execute_result"
    }
   ],
   "source": [
    "X_train.describe()"
   ]
  },
  {
   "cell_type": "markdown",
   "metadata": {},
   "source": [
    "### Check for missing and incorrect or extreme values."
   ]
  },
  {
   "cell_type": "code",
   "execution_count": 87,
   "metadata": {},
   "outputs": [
    {
     "data": {
      "text/plain": [
       "0"
      ]
     },
     "execution_count": 87,
     "metadata": {},
     "output_type": "execute_result"
    }
   ],
   "source": [
    "y_train.isnull().sum()"
   ]
  },
  {
   "cell_type": "code",
   "execution_count": 88,
   "metadata": {},
   "outputs": [
    {
     "data": {
      "text/plain": [
       "gender              0\n",
       "SeniorCitizen       0\n",
       "Partner             0\n",
       "Dependents          0\n",
       "tenure              0\n",
       "PhoneService        0\n",
       "MultipleLines       0\n",
       "InternetService     0\n",
       "OnlineSecurity      0\n",
       "OnlineBackup        0\n",
       "DeviceProtection    0\n",
       "TechSupport         0\n",
       "StreamingTV         0\n",
       "StreamingMovies     0\n",
       "Contract            0\n",
       "PaperlessBilling    0\n",
       "PaymentMethod       0\n",
       "MonthlyCharges      0\n",
       "dtype: int64"
      ]
     },
     "execution_count": 88,
     "metadata": {},
     "output_type": "execute_result"
    }
   ],
   "source": [
    "\n",
    "X_train.isnull().sum()"
   ]
  },
  {
   "cell_type": "code",
   "execution_count": null,
   "metadata": {},
   "outputs": [],
   "source": []
  },
  {
   "cell_type": "markdown",
   "metadata": {},
   "source": [
    "What are the factors that predict Churn?"
   ]
  },
  {
   "cell_type": "markdown",
   "metadata": {},
   "source": [
    "* SeniorCitizen\n",
    "* tenure\n",
    "* InternetService\n",
    "* StreamingTV\n",
    "* Contract\n",
    "* PaperlessBilling"
   ]
  },
  {
   "cell_type": "code",
   "execution_count": null,
   "metadata": {},
   "outputs": [],
   "source": []
  },
  {
   "cell_type": "code",
   "execution_count": null,
   "metadata": {},
   "outputs": [],
   "source": []
  },
  {
   "cell_type": "markdown",
   "metadata": {},
   "source": [
    "### Create a classification report and confusion matrix of predicted and observed values."
   ]
  },
  {
   "cell_type": "code",
   "execution_count": 89,
   "metadata": {},
   "outputs": [
    {
     "data": {
      "text/html": [
       "<div>\n",
       "<style scoped>\n",
       "    .dataframe tbody tr th:only-of-type {\n",
       "        vertical-align: middle;\n",
       "    }\n",
       "\n",
       "    .dataframe tbody tr th {\n",
       "        vertical-align: top;\n",
       "    }\n",
       "\n",
       "    .dataframe thead th {\n",
       "        text-align: right;\n",
       "    }\n",
       "</style>\n",
       "<table border=\"1\" class=\"dataframe\">\n",
       "  <thead>\n",
       "    <tr style=\"text-align: right;\">\n",
       "      <th></th>\n",
       "      <th>gender</th>\n",
       "      <th>SeniorCitizen</th>\n",
       "      <th>Partner</th>\n",
       "      <th>Dependents</th>\n",
       "      <th>tenure</th>\n",
       "      <th>PhoneService</th>\n",
       "      <th>MultipleLines</th>\n",
       "      <th>InternetService</th>\n",
       "      <th>OnlineSecurity</th>\n",
       "      <th>OnlineBackup</th>\n",
       "      <th>DeviceProtection</th>\n",
       "      <th>TechSupport</th>\n",
       "      <th>StreamingTV</th>\n",
       "      <th>StreamingMovies</th>\n",
       "      <th>Contract</th>\n",
       "      <th>PaperlessBilling</th>\n",
       "      <th>PaymentMethod</th>\n",
       "      <th>MonthlyCharges</th>\n",
       "    </tr>\n",
       "  </thead>\n",
       "  <tbody>\n",
       "    <tr>\n",
       "      <th>gender</th>\n",
       "      <td>1.000000</td>\n",
       "      <td>0.009265</td>\n",
       "      <td>-0.006735</td>\n",
       "      <td>-0.014253</td>\n",
       "      <td>-0.023537</td>\n",
       "      <td>0.000360</td>\n",
       "      <td>-0.006953</td>\n",
       "      <td>-0.005490</td>\n",
       "      <td>0.011361</td>\n",
       "      <td>0.010847</td>\n",
       "      <td>-0.007970</td>\n",
       "      <td>0.003381</td>\n",
       "      <td>-0.001713</td>\n",
       "      <td>-0.004124</td>\n",
       "      <td>0.004342</td>\n",
       "      <td>-0.008149</td>\n",
       "      <td>-0.003439</td>\n",
       "      <td>-0.003868</td>\n",
       "    </tr>\n",
       "    <tr>\n",
       "      <th>SeniorCitizen</th>\n",
       "      <td>0.009265</td>\n",
       "      <td>1.000000</td>\n",
       "      <td>0.000727</td>\n",
       "      <td>-0.215145</td>\n",
       "      <td>0.006255</td>\n",
       "      <td>0.021109</td>\n",
       "      <td>0.147471</td>\n",
       "      <td>0.273739</td>\n",
       "      <td>-0.058596</td>\n",
       "      <td>0.065505</td>\n",
       "      <td>0.060529</td>\n",
       "      <td>-0.069679</td>\n",
       "      <td>0.107282</td>\n",
       "      <td>0.123666</td>\n",
       "      <td>-0.146121</td>\n",
       "      <td>0.171462</td>\n",
       "      <td>-0.091963</td>\n",
       "      <td>0.232002</td>\n",
       "    </tr>\n",
       "    <tr>\n",
       "      <th>Partner</th>\n",
       "      <td>-0.006735</td>\n",
       "      <td>0.000727</td>\n",
       "      <td>1.000000</td>\n",
       "      <td>0.455095</td>\n",
       "      <td>0.373183</td>\n",
       "      <td>0.013990</td>\n",
       "      <td>0.134046</td>\n",
       "      <td>0.005925</td>\n",
       "      <td>0.136132</td>\n",
       "      <td>0.147243</td>\n",
       "      <td>0.166120</td>\n",
       "      <td>0.111633</td>\n",
       "      <td>0.130287</td>\n",
       "      <td>0.121171</td>\n",
       "      <td>0.297550</td>\n",
       "      <td>-0.015437</td>\n",
       "      <td>0.136463</td>\n",
       "      <td>0.101153</td>\n",
       "    </tr>\n",
       "    <tr>\n",
       "      <th>Dependents</th>\n",
       "      <td>-0.014253</td>\n",
       "      <td>-0.215145</td>\n",
       "      <td>0.455095</td>\n",
       "      <td>1.000000</td>\n",
       "      <td>0.159871</td>\n",
       "      <td>-0.004796</td>\n",
       "      <td>-0.020454</td>\n",
       "      <td>-0.179233</td>\n",
       "      <td>0.084016</td>\n",
       "      <td>0.023930</td>\n",
       "      <td>0.023031</td>\n",
       "      <td>0.070610</td>\n",
       "      <td>-0.020550</td>\n",
       "      <td>-0.039366</td>\n",
       "      <td>0.243646</td>\n",
       "      <td>-0.120328</td>\n",
       "      <td>0.130901</td>\n",
       "      <td>-0.113173</td>\n",
       "    </tr>\n",
       "    <tr>\n",
       "      <th>tenure</th>\n",
       "      <td>-0.023537</td>\n",
       "      <td>0.006255</td>\n",
       "      <td>0.373183</td>\n",
       "      <td>0.159871</td>\n",
       "      <td>1.000000</td>\n",
       "      <td>0.005207</td>\n",
       "      <td>0.326408</td>\n",
       "      <td>0.039781</td>\n",
       "      <td>0.328030</td>\n",
       "      <td>0.352866</td>\n",
       "      <td>0.362523</td>\n",
       "      <td>0.329251</td>\n",
       "      <td>0.281055</td>\n",
       "      <td>0.290347</td>\n",
       "      <td>0.677919</td>\n",
       "      <td>0.000784</td>\n",
       "      <td>0.336400</td>\n",
       "      <td>0.252582</td>\n",
       "    </tr>\n",
       "    <tr>\n",
       "      <th>PhoneService</th>\n",
       "      <td>0.000360</td>\n",
       "      <td>0.021109</td>\n",
       "      <td>0.013990</td>\n",
       "      <td>-0.004796</td>\n",
       "      <td>0.005207</td>\n",
       "      <td>1.000000</td>\n",
       "      <td>0.277656</td>\n",
       "      <td>0.092627</td>\n",
       "      <td>-0.094371</td>\n",
       "      <td>-0.050226</td>\n",
       "      <td>-0.076288</td>\n",
       "      <td>-0.102329</td>\n",
       "      <td>-0.024491</td>\n",
       "      <td>-0.033563</td>\n",
       "      <td>-0.009751</td>\n",
       "      <td>0.026349</td>\n",
       "      <td>-0.012392</td>\n",
       "      <td>0.245163</td>\n",
       "    </tr>\n",
       "    <tr>\n",
       "      <th>MultipleLines</th>\n",
       "      <td>-0.006953</td>\n",
       "      <td>0.147471</td>\n",
       "      <td>0.134046</td>\n",
       "      <td>-0.020454</td>\n",
       "      <td>0.326408</td>\n",
       "      <td>0.277656</td>\n",
       "      <td>1.000000</td>\n",
       "      <td>0.345755</td>\n",
       "      <td>0.100996</td>\n",
       "      <td>0.205964</td>\n",
       "      <td>0.188232</td>\n",
       "      <td>0.100971</td>\n",
       "      <td>0.249924</td>\n",
       "      <td>0.258660</td>\n",
       "      <td>0.101512</td>\n",
       "      <td>0.167956</td>\n",
       "      <td>0.027231</td>\n",
       "      <td>0.490054</td>\n",
       "    </tr>\n",
       "    <tr>\n",
       "      <th>InternetService</th>\n",
       "      <td>-0.005490</td>\n",
       "      <td>0.273739</td>\n",
       "      <td>0.005925</td>\n",
       "      <td>-0.179233</td>\n",
       "      <td>0.039781</td>\n",
       "      <td>0.092627</td>\n",
       "      <td>0.345755</td>\n",
       "      <td>1.000000</td>\n",
       "      <td>0.146626</td>\n",
       "      <td>0.303748</td>\n",
       "      <td>0.307032</td>\n",
       "      <td>0.166483</td>\n",
       "      <td>0.426582</td>\n",
       "      <td>0.425670</td>\n",
       "      <td>-0.284407</td>\n",
       "      <td>0.380857</td>\n",
       "      <td>-0.167533</td>\n",
       "      <td>0.905374</td>\n",
       "    </tr>\n",
       "    <tr>\n",
       "      <th>OnlineSecurity</th>\n",
       "      <td>0.011361</td>\n",
       "      <td>-0.058596</td>\n",
       "      <td>0.136132</td>\n",
       "      <td>0.084016</td>\n",
       "      <td>0.328030</td>\n",
       "      <td>-0.094371</td>\n",
       "      <td>0.100996</td>\n",
       "      <td>0.146626</td>\n",
       "      <td>1.000000</td>\n",
       "      <td>0.274452</td>\n",
       "      <td>0.278495</td>\n",
       "      <td>0.348098</td>\n",
       "      <td>0.170632</td>\n",
       "      <td>0.187227</td>\n",
       "      <td>0.254113</td>\n",
       "      <td>-0.011042</td>\n",
       "      <td>0.178109</td>\n",
       "      <td>0.289184</td>\n",
       "    </tr>\n",
       "    <tr>\n",
       "      <th>OnlineBackup</th>\n",
       "      <td>0.010847</td>\n",
       "      <td>0.065505</td>\n",
       "      <td>0.147243</td>\n",
       "      <td>0.023930</td>\n",
       "      <td>0.352866</td>\n",
       "      <td>-0.050226</td>\n",
       "      <td>0.205964</td>\n",
       "      <td>0.303748</td>\n",
       "      <td>0.274452</td>\n",
       "      <td>1.000000</td>\n",
       "      <td>0.305205</td>\n",
       "      <td>0.286836</td>\n",
       "      <td>0.268884</td>\n",
       "      <td>0.261249</td>\n",
       "      <td>0.151819</td>\n",
       "      <td>0.121726</td>\n",
       "      <td>0.099452</td>\n",
       "      <td>0.436071</td>\n",
       "    </tr>\n",
       "    <tr>\n",
       "      <th>DeviceProtection</th>\n",
       "      <td>-0.007970</td>\n",
       "      <td>0.060529</td>\n",
       "      <td>0.166120</td>\n",
       "      <td>0.023031</td>\n",
       "      <td>0.362523</td>\n",
       "      <td>-0.076288</td>\n",
       "      <td>0.188232</td>\n",
       "      <td>0.307032</td>\n",
       "      <td>0.278495</td>\n",
       "      <td>0.305205</td>\n",
       "      <td>1.000000</td>\n",
       "      <td>0.342502</td>\n",
       "      <td>0.377982</td>\n",
       "      <td>0.399009</td>\n",
       "      <td>0.226392</td>\n",
       "      <td>0.088796</td>\n",
       "      <td>0.125689</td>\n",
       "      <td>0.475999</td>\n",
       "    </tr>\n",
       "    <tr>\n",
       "      <th>TechSupport</th>\n",
       "      <td>0.003381</td>\n",
       "      <td>-0.069679</td>\n",
       "      <td>0.111633</td>\n",
       "      <td>0.070610</td>\n",
       "      <td>0.329251</td>\n",
       "      <td>-0.102329</td>\n",
       "      <td>0.100971</td>\n",
       "      <td>0.166483</td>\n",
       "      <td>0.348098</td>\n",
       "      <td>0.286836</td>\n",
       "      <td>0.342502</td>\n",
       "      <td>1.000000</td>\n",
       "      <td>0.282713</td>\n",
       "      <td>0.292363</td>\n",
       "      <td>0.300752</td>\n",
       "      <td>0.026083</td>\n",
       "      <td>0.176916</td>\n",
       "      <td>0.342754</td>\n",
       "    </tr>\n",
       "    <tr>\n",
       "      <th>StreamingTV</th>\n",
       "      <td>-0.001713</td>\n",
       "      <td>0.107282</td>\n",
       "      <td>0.130287</td>\n",
       "      <td>-0.020550</td>\n",
       "      <td>0.281055</td>\n",
       "      <td>-0.024491</td>\n",
       "      <td>0.249924</td>\n",
       "      <td>0.426582</td>\n",
       "      <td>0.170632</td>\n",
       "      <td>0.268884</td>\n",
       "      <td>0.377982</td>\n",
       "      <td>0.282713</td>\n",
       "      <td>1.000000</td>\n",
       "      <td>0.526149</td>\n",
       "      <td>0.106432</td>\n",
       "      <td>0.217491</td>\n",
       "      <td>-0.016825</td>\n",
       "      <td>0.625220</td>\n",
       "    </tr>\n",
       "    <tr>\n",
       "      <th>StreamingMovies</th>\n",
       "      <td>-0.004124</td>\n",
       "      <td>0.123666</td>\n",
       "      <td>0.121171</td>\n",
       "      <td>-0.039366</td>\n",
       "      <td>0.290347</td>\n",
       "      <td>-0.033563</td>\n",
       "      <td>0.258660</td>\n",
       "      <td>0.425670</td>\n",
       "      <td>0.187227</td>\n",
       "      <td>0.261249</td>\n",
       "      <td>0.399009</td>\n",
       "      <td>0.292363</td>\n",
       "      <td>0.526149</td>\n",
       "      <td>1.000000</td>\n",
       "      <td>0.116190</td>\n",
       "      <td>0.217510</td>\n",
       "      <td>0.005524</td>\n",
       "      <td>0.626838</td>\n",
       "    </tr>\n",
       "    <tr>\n",
       "      <th>Contract</th>\n",
       "      <td>0.004342</td>\n",
       "      <td>-0.146121</td>\n",
       "      <td>0.297550</td>\n",
       "      <td>0.243646</td>\n",
       "      <td>0.677919</td>\n",
       "      <td>-0.009751</td>\n",
       "      <td>0.101512</td>\n",
       "      <td>-0.284407</td>\n",
       "      <td>0.254113</td>\n",
       "      <td>0.151819</td>\n",
       "      <td>0.226392</td>\n",
       "      <td>0.300752</td>\n",
       "      <td>0.106432</td>\n",
       "      <td>0.116190</td>\n",
       "      <td>1.000000</td>\n",
       "      <td>-0.176154</td>\n",
       "      <td>0.360922</td>\n",
       "      <td>-0.070396</td>\n",
       "    </tr>\n",
       "    <tr>\n",
       "      <th>PaperlessBilling</th>\n",
       "      <td>-0.008149</td>\n",
       "      <td>0.171462</td>\n",
       "      <td>-0.015437</td>\n",
       "      <td>-0.120328</td>\n",
       "      <td>0.000784</td>\n",
       "      <td>0.026349</td>\n",
       "      <td>0.167956</td>\n",
       "      <td>0.380857</td>\n",
       "      <td>-0.011042</td>\n",
       "      <td>0.121726</td>\n",
       "      <td>0.088796</td>\n",
       "      <td>0.026083</td>\n",
       "      <td>0.217491</td>\n",
       "      <td>0.217510</td>\n",
       "      <td>-0.176154</td>\n",
       "      <td>1.000000</td>\n",
       "      <td>-0.098868</td>\n",
       "      <td>0.354145</td>\n",
       "    </tr>\n",
       "    <tr>\n",
       "      <th>PaymentMethod</th>\n",
       "      <td>-0.003439</td>\n",
       "      <td>-0.091963</td>\n",
       "      <td>0.136463</td>\n",
       "      <td>0.130901</td>\n",
       "      <td>0.336400</td>\n",
       "      <td>-0.012392</td>\n",
       "      <td>0.027231</td>\n",
       "      <td>-0.167533</td>\n",
       "      <td>0.178109</td>\n",
       "      <td>0.099452</td>\n",
       "      <td>0.125689</td>\n",
       "      <td>0.176916</td>\n",
       "      <td>-0.016825</td>\n",
       "      <td>0.005524</td>\n",
       "      <td>0.360922</td>\n",
       "      <td>-0.098868</td>\n",
       "      <td>1.000000</td>\n",
       "      <td>-0.065586</td>\n",
       "    </tr>\n",
       "    <tr>\n",
       "      <th>MonthlyCharges</th>\n",
       "      <td>-0.003868</td>\n",
       "      <td>0.232002</td>\n",
       "      <td>0.101153</td>\n",
       "      <td>-0.113173</td>\n",
       "      <td>0.252582</td>\n",
       "      <td>0.245163</td>\n",
       "      <td>0.490054</td>\n",
       "      <td>0.905374</td>\n",
       "      <td>0.289184</td>\n",
       "      <td>0.436071</td>\n",
       "      <td>0.475999</td>\n",
       "      <td>0.342754</td>\n",
       "      <td>0.625220</td>\n",
       "      <td>0.626838</td>\n",
       "      <td>-0.070396</td>\n",
       "      <td>0.354145</td>\n",
       "      <td>-0.065586</td>\n",
       "      <td>1.000000</td>\n",
       "    </tr>\n",
       "  </tbody>\n",
       "</table>\n",
       "</div>"
      ],
      "text/plain": [
       "                    gender  SeniorCitizen   Partner  Dependents    tenure  \\\n",
       "gender            1.000000       0.009265 -0.006735   -0.014253 -0.023537   \n",
       "SeniorCitizen     0.009265       1.000000  0.000727   -0.215145  0.006255   \n",
       "Partner          -0.006735       0.000727  1.000000    0.455095  0.373183   \n",
       "Dependents       -0.014253      -0.215145  0.455095    1.000000  0.159871   \n",
       "tenure           -0.023537       0.006255  0.373183    0.159871  1.000000   \n",
       "PhoneService      0.000360       0.021109  0.013990   -0.004796  0.005207   \n",
       "MultipleLines    -0.006953       0.147471  0.134046   -0.020454  0.326408   \n",
       "InternetService  -0.005490       0.273739  0.005925   -0.179233  0.039781   \n",
       "OnlineSecurity    0.011361      -0.058596  0.136132    0.084016  0.328030   \n",
       "OnlineBackup      0.010847       0.065505  0.147243    0.023930  0.352866   \n",
       "DeviceProtection -0.007970       0.060529  0.166120    0.023031  0.362523   \n",
       "TechSupport       0.003381      -0.069679  0.111633    0.070610  0.329251   \n",
       "StreamingTV      -0.001713       0.107282  0.130287   -0.020550  0.281055   \n",
       "StreamingMovies  -0.004124       0.123666  0.121171   -0.039366  0.290347   \n",
       "Contract          0.004342      -0.146121  0.297550    0.243646  0.677919   \n",
       "PaperlessBilling -0.008149       0.171462 -0.015437   -0.120328  0.000784   \n",
       "PaymentMethod    -0.003439      -0.091963  0.136463    0.130901  0.336400   \n",
       "MonthlyCharges   -0.003868       0.232002  0.101153   -0.113173  0.252582   \n",
       "\n",
       "                  PhoneService  MultipleLines  InternetService  \\\n",
       "gender                0.000360      -0.006953        -0.005490   \n",
       "SeniorCitizen         0.021109       0.147471         0.273739   \n",
       "Partner               0.013990       0.134046         0.005925   \n",
       "Dependents           -0.004796      -0.020454        -0.179233   \n",
       "tenure                0.005207       0.326408         0.039781   \n",
       "PhoneService          1.000000       0.277656         0.092627   \n",
       "MultipleLines         0.277656       1.000000         0.345755   \n",
       "InternetService       0.092627       0.345755         1.000000   \n",
       "OnlineSecurity       -0.094371       0.100996         0.146626   \n",
       "OnlineBackup         -0.050226       0.205964         0.303748   \n",
       "DeviceProtection     -0.076288       0.188232         0.307032   \n",
       "TechSupport          -0.102329       0.100971         0.166483   \n",
       "StreamingTV          -0.024491       0.249924         0.426582   \n",
       "StreamingMovies      -0.033563       0.258660         0.425670   \n",
       "Contract             -0.009751       0.101512        -0.284407   \n",
       "PaperlessBilling      0.026349       0.167956         0.380857   \n",
       "PaymentMethod        -0.012392       0.027231        -0.167533   \n",
       "MonthlyCharges        0.245163       0.490054         0.905374   \n",
       "\n",
       "                  OnlineSecurity  OnlineBackup  DeviceProtection  TechSupport  \\\n",
       "gender                  0.011361      0.010847         -0.007970     0.003381   \n",
       "SeniorCitizen          -0.058596      0.065505          0.060529    -0.069679   \n",
       "Partner                 0.136132      0.147243          0.166120     0.111633   \n",
       "Dependents              0.084016      0.023930          0.023031     0.070610   \n",
       "tenure                  0.328030      0.352866          0.362523     0.329251   \n",
       "PhoneService           -0.094371     -0.050226         -0.076288    -0.102329   \n",
       "MultipleLines           0.100996      0.205964          0.188232     0.100971   \n",
       "InternetService         0.146626      0.303748          0.307032     0.166483   \n",
       "OnlineSecurity          1.000000      0.274452          0.278495     0.348098   \n",
       "OnlineBackup            0.274452      1.000000          0.305205     0.286836   \n",
       "DeviceProtection        0.278495      0.305205          1.000000     0.342502   \n",
       "TechSupport             0.348098      0.286836          0.342502     1.000000   \n",
       "StreamingTV             0.170632      0.268884          0.377982     0.282713   \n",
       "StreamingMovies         0.187227      0.261249          0.399009     0.292363   \n",
       "Contract                0.254113      0.151819          0.226392     0.300752   \n",
       "PaperlessBilling       -0.011042      0.121726          0.088796     0.026083   \n",
       "PaymentMethod           0.178109      0.099452          0.125689     0.176916   \n",
       "MonthlyCharges          0.289184      0.436071          0.475999     0.342754   \n",
       "\n",
       "                  StreamingTV  StreamingMovies  Contract  PaperlessBilling  \\\n",
       "gender              -0.001713        -0.004124  0.004342         -0.008149   \n",
       "SeniorCitizen        0.107282         0.123666 -0.146121          0.171462   \n",
       "Partner              0.130287         0.121171  0.297550         -0.015437   \n",
       "Dependents          -0.020550        -0.039366  0.243646         -0.120328   \n",
       "tenure               0.281055         0.290347  0.677919          0.000784   \n",
       "PhoneService        -0.024491        -0.033563 -0.009751          0.026349   \n",
       "MultipleLines        0.249924         0.258660  0.101512          0.167956   \n",
       "InternetService      0.426582         0.425670 -0.284407          0.380857   \n",
       "OnlineSecurity       0.170632         0.187227  0.254113         -0.011042   \n",
       "OnlineBackup         0.268884         0.261249  0.151819          0.121726   \n",
       "DeviceProtection     0.377982         0.399009  0.226392          0.088796   \n",
       "TechSupport          0.282713         0.292363  0.300752          0.026083   \n",
       "StreamingTV          1.000000         0.526149  0.106432          0.217491   \n",
       "StreamingMovies      0.526149         1.000000  0.116190          0.217510   \n",
       "Contract             0.106432         0.116190  1.000000         -0.176154   \n",
       "PaperlessBilling     0.217491         0.217510 -0.176154          1.000000   \n",
       "PaymentMethod       -0.016825         0.005524  0.360922         -0.098868   \n",
       "MonthlyCharges       0.625220         0.626838 -0.070396          0.354145   \n",
       "\n",
       "                  PaymentMethod  MonthlyCharges  \n",
       "gender                -0.003439       -0.003868  \n",
       "SeniorCitizen         -0.091963        0.232002  \n",
       "Partner                0.136463        0.101153  \n",
       "Dependents             0.130901       -0.113173  \n",
       "tenure                 0.336400        0.252582  \n",
       "PhoneService          -0.012392        0.245163  \n",
       "MultipleLines          0.027231        0.490054  \n",
       "InternetService       -0.167533        0.905374  \n",
       "OnlineSecurity         0.178109        0.289184  \n",
       "OnlineBackup           0.099452        0.436071  \n",
       "DeviceProtection       0.125689        0.475999  \n",
       "TechSupport            0.176916        0.342754  \n",
       "StreamingTV           -0.016825        0.625220  \n",
       "StreamingMovies        0.005524        0.626838  \n",
       "Contract               0.360922       -0.070396  \n",
       "PaperlessBilling      -0.098868        0.354145  \n",
       "PaymentMethod          1.000000       -0.065586  \n",
       "MonthlyCharges        -0.065586        1.000000  "
      ]
     },
     "execution_count": 89,
     "metadata": {},
     "output_type": "execute_result"
    }
   ],
   "source": [
    "X_train.corr()"
   ]
  },
  {
   "cell_type": "code",
   "execution_count": null,
   "metadata": {},
   "outputs": [],
   "source": []
  },
  {
   "cell_type": "code",
   "execution_count": 90,
   "metadata": {},
   "outputs": [
    {
     "data": {
      "text/plain": [
       "<matplotlib.axes._subplots.AxesSubplot at 0x7f8846725cf8>"
      ]
     },
     "execution_count": 90,
     "metadata": {},
     "output_type": "execute_result"
    },
    {
     "data": {
      "image/png": "[encoded data removed]",
      "text/plain": [
       "<Figure size 1296x1152 with 2 Axes>"
      ]
     },
     "metadata": {
      "needs_background": "light"
     },
     "output_type": "display_data"
    }
   ],
   "source": [
    "# Compute the correlation matrix\n",
    "corr = data2.corr()\n",
    "\n",
    "# Generate a mask for the upper triangle\n",
    "mask = np.zeros_like(corr, dtype=np.bool)\n",
    "mask[np.triu_indices_from(mask)] = True\n",
    "\n",
    "# Set up the matplotlib figure\n",
    "f, ax = plt.subplots(figsize=(18, 16))\n",
    "\n",
    "# Generate a custom diverging colormap\n",
    "cmap = sns.diverging_palette(220, 10, as_cmap=True)\n",
    "\n",
    "# Draw the heatmap with the mask and correct aspect ratio\n",
    "sns.heatmap(corr, mask=mask, cmap=cmap, vmax=.9, center=0,\n",
    "            square=True, linewidths=1, annot = True, cbar_kws={\"shrink\": .5})"
   ]
  },
  {
   "cell_type": "code",
   "execution_count": 91,
   "metadata": {},
   "outputs": [
    {
     "data": {
      "image/png": "[encoded data removed]",
      "text/plain": [
       "<Figure size 432x288 with 1 Axes>"
      ]
     },
     "metadata": {
      "needs_background": "light"
     },
     "output_type": "display_data"
    }
   ],
   "source": [
    "sns.countplot(x=\"Churn\", data=data2, palette='hls')\n",
    "plt.show()"
   ]
  },
  {
   "cell_type": "code",
   "execution_count": 92,
   "metadata": {},
   "outputs": [
    {
     "data": {
      "text/plain": [
       "array([[<matplotlib.axes._subplots.AxesSubplot object at 0x7f8844359c88>,\n",
       "        <matplotlib.axes._subplots.AxesSubplot object at 0x7f8844385c50>],\n",
       "       [<matplotlib.axes._subplots.AxesSubplot object at 0x7f8844334208>,\n",
       "        <matplotlib.axes._subplots.AxesSubplot object at 0x7f88442da780>],\n",
       "       [<matplotlib.axes._subplots.AxesSubplot object at 0x7f8844302cf8>,\n",
       "        <matplotlib.axes._subplots.AxesSubplot object at 0x7f88442b32b0>]],\n",
       "      dtype=object)"
      ]
     },
     "execution_count": 92,
     "metadata": {},
     "output_type": "execute_result"
    },
    {
     "data": {
      "image/png": "[encoded data removed]",
      "text/plain": [
       "<Figure size 432x288 with 6 Axes>"
      ]
     },
     "metadata": {
      "needs_background": "light"
     },
     "output_type": "display_data"
    }
   ],
   "source": [
    "data2[['SeniorCitizen','tenure', 'InternetService', 'StreamingTV', 'Contract', 'PaperlessBilling']].hist()"
   ]
  },
  {
   "cell_type": "markdown",
   "metadata": {},
   "source": [
    "* What is the accuracy, sensitivity and specificity of the model on the (a) training and (b) test data?"
   ]
  },
  {
   "cell_type": "code",
   "execution_count": 104,
   "metadata": {},
   "outputs": [],
   "source": [
    "from sklearn.metrics import mean_squared_error\n",
    "from sklearn.linear_model import LogisticRegression\n",
    "from sklearn.metrics import confusion_matrix \n",
    "from sklearn.metrics import accuracy_score \n",
    "from sklearn.metrics import classification_report"
   ]
  },
  {
   "cell_type": "code",
   "execution_count": 105,
   "metadata": {},
   "outputs": [],
   "source": [
    "\n",
    "# instantiate the model (using the default parameters)\n",
    "logreg = LogisticRegression()\n",
    "# fit the model with the training data\n",
    "model = logreg.fit(X_train,y_train)\n",
    "# create y_predict_lr \n",
    "y_predict_lr = model.predict(X_test)"
   ]
  },
  {
   "cell_type": "markdown",
   "metadata": {},
   "source": [
    "* create a confusion matrix."
   ]
  },
  {
   "cell_type": "code",
   "execution_count": 111,
   "metadata": {},
   "outputs": [
    {
     "data": {
      "text/plain": [
       "array([[1372,  153],\n",
       "       [ 273,  315]])"
      ]
     },
     "execution_count": 111,
     "metadata": {},
     "output_type": "execute_result"
    }
   ],
   "source": [
    "confusion_matrix = metrics.confusion_matrix(y_test, y_predict_lr)\n",
    "confusion_matrix"
   ]
  },
  {
   "cell_type": "code",
   "execution_count": 114,
   "metadata": {},
   "outputs": [
    {
     "data": {
      "image/png": "[encoded data removed]",
      "text/plain": [
       "<Figure size 432x288 with 2 Axes>"
      ]
     },
     "metadata": {
      "needs_background": "light"
     },
     "output_type": "display_data"
    }
   ],
   "source": [
    "ax= plt.subplot()\n",
    "#annot=True to annotate cells, #pass fmt='g' call to keep numbers from going to scientific notation.\n",
    "sns.heatmap(confusion_matrix, annot=True, ax = ax, fmt='g', cmap='Greens'); #annot=True to annotate cells, #pass fmt='g' call to keep numbers from going to scientific notation.\n",
    "\n",
    "# labels, title and ticks\n",
    "ax.set_xlabel('Predicted values');ax.set_ylabel('True values'); \n",
    "ax.set_title('Confusion Matrix of Customer Churn'); \n",
    "ax.xaxis.set_ticklabels(['No Churn', 'Churn']); ax.yaxis.set_ticklabels(['No Churn', 'Churn']);"
   ]
  },
  {
   "cell_type": "code",
   "execution_count": 132,
   "metadata": {},
   "outputs": [
    {
     "name": "stdout",
     "output_type": "stream",
     "text": [
      "Confusion Matrix : \n",
      " [[1372  153]\n",
      " [ 273  315]]\n",
      "Accuracy :  : 79.839 % Accurate\n",
      "Sensitivity :  : 89.967 % Accurate\n",
      "Specificity :  : 53.571 % Accurate\n"
     ]
    }
   ],
   "source": [
    "# confusion_matrix = confusion_matrix\n",
    "print(\"Confusion Matrix : \\n\", confusion_matrix)\n",
    "confusion_matrix\n",
    "total1= sum(sum(confusion_matrix))\n",
    "#####from confusion matrix calculate accuracy\n",
    "accuracy1=(confusion_matrix[0,0]+confusion_matrix[1,1])/total1\n",
    "print ('{:s} : {:.3f}'.format('Accuracy : ', accuracy1*100),\"%\", \"Accurate\")\n",
    "\n",
    "sensitivity1 = confusion_matrix[0,0]/(confusion_matrix[0,0]+confusion_matrix[0,1])\n",
    "print('{:s} : {:.3f}'.format('Sensitivity : ', sensitivity1*100),\"%\", \"Accurate\")\n",
    "\n",
    "specificity1 = confusion_matrix[1,1]/(confusion_matrix[1,0]+confusion_matrix[1,1])\n",
    "print('{:s} : {:.3f}'.format('Specificity : ', specificity1*100),\"%\", \"Accurate\")"
   ]
  },
  {
   "cell_type": "markdown",
   "metadata": {},
   "source": [
    "* Classification Report."
   ]
  },
  {
   "cell_type": "code",
   "execution_count": 133,
   "metadata": {},
   "outputs": [
    {
     "name": "stdout",
     "output_type": "stream",
     "text": [
      "              precision    recall  f1-score   support\n",
      "\n",
      "           0       0.83      0.90      0.87      1525\n",
      "           1       0.67      0.54      0.60       588\n",
      "\n",
      "    accuracy                           0.80      2113\n",
      "   macro avg       0.75      0.72      0.73      2113\n",
      "weighted avg       0.79      0.80      0.79      2113\n",
      "\n"
     ]
    }
   ],
   "source": [
    "print(classification_report(y_test, y_predict_lr))"
   ]
  },
  {
   "cell_type": "markdown",
   "metadata": {},
   "source": [
    "Sensitivity and specificity are statistical measures of the performance of a binary classification test, also known in statistics as a classification function, that are widely used in medicine:\n",
    "\n",
    "Sensitivity (also called the true positive rate, the recall, or probability of detection[1] in some fields) measures the proportion of actual positives that are correctly identified as such (e.g., the percentage of sick people who are correctly identified as having the condition). Specificity (also called the true negative rate) measures the proportion of actual negatives that are correctly identified as such (e.g., the percentage of healthy people who are correctly identified as not having the condition). (\"https://en.wikipedia.org/wiki/Sensitivity_and_specificity\")"
   ]
  },
  {
   "cell_type": "markdown",
   "metadata": {},
   "source": [
    "### Plot a Receiver Operating Characteristic (ROC) curve on the test data."
   ]
  },
  {
   "cell_type": "code",
   "execution_count": 139,
   "metadata": {},
   "outputs": [
    {
     "name": "stdout",
     "output_type": "stream",
     "text": [
      "Unbalanced model AUROC: 0.8421751979480316\n",
      "Balanced model AUROC: 0.8421751979480316\n"
     ]
    }
   ],
   "source": [
    "from sklearn.metrics import roc_auc_score\n",
    " \n",
    "# Get class probabilities for both models\n",
    "y_test_prob = logreg.predict_proba(X_test)\n",
    "y_test_prob_balanced = logreg.predict_proba(X_test)\n",
    " \n",
    "# We only need the probabilities for the positive class\n",
    "y_test_prob = [p[1] for p in y_test_prob]\n",
    "y_test_prob_balanced = [p[1] for p in y_test_prob_balanced]\n",
    " \n",
    "print('Unbalanced model AUROC: ' + str(roc_auc_score(y_test, y_test_prob)))\n",
    "print('Balanced model AUROC: ' + str(roc_auc_score(y_test, y_test_prob_balanced)))"
   ]
  },
  {
   "cell_type": "markdown",
   "metadata": {},
   "source": [
    "Interestingly, the AUROC scores are very similar between the two models. Both are above 0.5 however, suggesting that both models have the ability to distiguish between observations from each class."
   ]
  },
  {
   "cell_type": "code",
   "execution_count": null,
   "metadata": {},
   "outputs": [],
   "source": []
  },
  {
   "cell_type": "code",
   "execution_count": null,
   "metadata": {},
   "outputs": [],
   "source": []
  }
 ],
 "metadata": {
  "kernelspec": {
   "display_name": "Python 3",
   "language": "python",
   "name": "python3"
  },
  "language_info": {
   "codemirror_mode": {
    "name": "ipython",
    "version": 3
   },
   "file_extension": ".py",
   "mimetype": "text/x-python",
   "name": "python",
   "nbconvert_exporter": "python",
   "pygments_lexer": "ipython3",
   "version": "3.7.3"
  }
 },
 "nbformat": 4,
 "nbformat_minor": 2
}
